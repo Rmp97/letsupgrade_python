{
  "nbformat": 4,
  "nbformat_minor": 0,
  "metadata": {
    "colab": {
      "name": "day2_assignment_solution_python.ipynb",
      "provenance": [],
      "collapsed_sections": []
    },
    "kernelspec": {
      "name": "python3",
      "display_name": "Python 3"
    }
  },
  "cells": [
    {
      "cell_type": "markdown",
      "metadata": {
        "id": "QB213LWOiEsL",
        "colab_type": "text"
      },
      "source": [
        "# this is python day 2 assignment solution\n",
        "#Questions 1\n",
        "#List and its default functions."
      ]
    },
    {
      "cell_type": "code",
      "metadata": {
        "id": "qwH9EYhUdLmx",
        "colab_type": "code",
        "colab": {}
      },
      "source": [
        "lst=[1,2,3,\"hari\",\"shani\"]#intialization of list"
      ],
      "execution_count": 1,
      "outputs": []
    },
    {
      "cell_type": "code",
      "metadata": {
        "id": "gYdplS40dXSK",
        "colab_type": "code",
        "colab": {
          "base_uri": "https://localhost:8080/",
          "height": 35
        },
        "outputId": "6f256258-cef8-413e-e52b-e6883eaf8052"
      },
      "source": [
        "lst # printing list"
      ],
      "execution_count": 2,
      "outputs": [
        {
          "output_type": "execute_result",
          "data": {
            "text/plain": [
              "[1, 2, 3, 'hari', 'shani']"
            ]
          },
          "metadata": {
            "tags": []
          },
          "execution_count": 2
        }
      ]
    },
    {
      "cell_type": "code",
      "metadata": {
        "id": "G1lCk_ZJdafQ",
        "colab_type": "code",
        "colab": {
          "base_uri": "https://localhost:8080/",
          "height": 35
        },
        "outputId": "b705d661-5bd6-4c11-9189-eef886ab56d3"
      },
      "source": [
        "lst.append(\"shiva\") #append item in the list\n",
        "lst"
      ],
      "execution_count": 3,
      "outputs": [
        {
          "output_type": "execute_result",
          "data": {
            "text/plain": [
              "[1, 2, 3, 'hari', 'shani', 'shiva']"
            ]
          },
          "metadata": {
            "tags": []
          },
          "execution_count": 3
        }
      ]
    },
    {
      "cell_type": "code",
      "metadata": {
        "id": "REcSM6uUd2y3",
        "colab_type": "code",
        "colab": {
          "base_uri": "https://localhost:8080/",
          "height": 35
        },
        "outputId": "dee06d30-58fd-4845-b6e3-8e5fc87186ae"
      },
      "source": [
        "lst.remove(2)#remove item from list\n",
        "lst\n"
      ],
      "execution_count": 4,
      "outputs": [
        {
          "output_type": "execute_result",
          "data": {
            "text/plain": [
              "[1, 3, 'hari', 'shani', 'shiva']"
            ]
          },
          "metadata": {
            "tags": []
          },
          "execution_count": 4
        }
      ]
    },
    {
      "cell_type": "code",
      "metadata": {
        "id": "TARicXjZeBI3",
        "colab_type": "code",
        "colab": {
          "base_uri": "https://localhost:8080/",
          "height": 35
        },
        "outputId": "4ebfa957-8648-4d2b-8229-7da02fc9547a"
      },
      "source": [
        "lst.pop(3)#pop from list index\n",
        "lst"
      ],
      "execution_count": 5,
      "outputs": [
        {
          "output_type": "execute_result",
          "data": {
            "text/plain": [
              "[1, 3, 'hari', 'shiva']"
            ]
          },
          "metadata": {
            "tags": []
          },
          "execution_count": 5
        }
      ]
    },
    {
      "cell_type": "code",
      "metadata": {
        "id": "H044krDVefZK",
        "colab_type": "code",
        "colab": {
          "base_uri": "https://localhost:8080/",
          "height": 35
        },
        "outputId": "2d43af1a-585e-43f4-e93c-f66e8021ff60"
      },
      "source": [
        "copylist=lst.copy() #copy list \n",
        "copylist"
      ],
      "execution_count": 6,
      "outputs": [
        {
          "output_type": "execute_result",
          "data": {
            "text/plain": [
              "[1, 3, 'hari', 'shiva']"
            ]
          },
          "metadata": {
            "tags": []
          },
          "execution_count": 6
        }
      ]
    },
    {
      "cell_type": "code",
      "metadata": {
        "id": "1--p8vibd5dx",
        "colab_type": "code",
        "colab": {
          "base_uri": "https://localhost:8080/",
          "height": 35
        },
        "outputId": "49cc32bb-9f15-4a84-e7a7-ba892a5c0609"
      },
      "source": [
        "lst.clear() #clear list\n",
        "lst"
      ],
      "execution_count": 7,
      "outputs": [
        {
          "output_type": "execute_result",
          "data": {
            "text/plain": [
              "[]"
            ]
          },
          "metadata": {
            "tags": []
          },
          "execution_count": 7
        }
      ]
    },
    {
      "cell_type": "markdown",
      "metadata": {
        "id": "LS6buwlohf_I",
        "colab_type": "text"
      },
      "source": [
        "# Questions 2\n",
        "# Dictionary and its default functions."
      ]
    },
    {
      "cell_type": "code",
      "metadata": {
        "id": "j53BFqUmfAd7",
        "colab_type": "code",
        "colab": {}
      },
      "source": [
        "dict={\"id\":1,\"name\":\"krishna\",\"age\":\"25\",\"bdate\":\"29thmarch2002\",\"phone\":9898007896}#intializing dictionary\n"
      ],
      "execution_count": 8,
      "outputs": []
    },
    {
      "cell_type": "code",
      "metadata": {
        "id": "Ewn7IoJZfh5W",
        "colab_type": "code",
        "colab": {
          "base_uri": "https://localhost:8080/",
          "height": 104
        },
        "outputId": "33f28a7c-8825-4685-d4d5-d69cbeb17f5b"
      },
      "source": [
        "dict  #printing dictionary"
      ],
      "execution_count": 9,
      "outputs": [
        {
          "output_type": "execute_result",
          "data": {
            "text/plain": [
              "{'age': '25',\n",
              " 'bdate': '29thmarch2002',\n",
              " 'id': 1,\n",
              " 'name': 'krishna',\n",
              " 'phone': 9898007896}"
            ]
          },
          "metadata": {
            "tags": []
          },
          "execution_count": 9
        }
      ]
    },
    {
      "cell_type": "code",
      "metadata": {
        "id": "ayPV0YdefkBY",
        "colab_type": "code",
        "colab": {
          "base_uri": "https://localhost:8080/",
          "height": 35
        },
        "outputId": "04775bc1-0378-468f-cec7-871396b54356"
      },
      "source": [
        "dict.items() #list all the items"
      ],
      "execution_count": 10,
      "outputs": [
        {
          "output_type": "execute_result",
          "data": {
            "text/plain": [
              "dict_items([('id', 1), ('name', 'krishna'), ('age', '25'), ('bdate', '29thmarch2002'), ('phone', 9898007896)])"
            ]
          },
          "metadata": {
            "tags": []
          },
          "execution_count": 10
        }
      ]
    },
    {
      "cell_type": "code",
      "metadata": {
        "id": "l_GQ01uRfnVm",
        "colab_type": "code",
        "colab": {
          "base_uri": "https://localhost:8080/",
          "height": 35
        },
        "outputId": "0b275f57-86bf-4bec-a01a-04a4b670e996"
      },
      "source": [
        "dict.values() #display all the values"
      ],
      "execution_count": 11,
      "outputs": [
        {
          "output_type": "execute_result",
          "data": {
            "text/plain": [
              "dict_values([1, 'krishna', '25', '29thmarch2002', 9898007896])"
            ]
          },
          "metadata": {
            "tags": []
          },
          "execution_count": 11
        }
      ]
    },
    {
      "cell_type": "code",
      "metadata": {
        "id": "GtnaOfNSfqvJ",
        "colab_type": "code",
        "colab": {
          "base_uri": "https://localhost:8080/",
          "height": 35
        },
        "outputId": "81bc16c5-ab59-430a-b546-9d2328d3b001"
      },
      "source": [
        "dict.keys() #display all the key in dictonary"
      ],
      "execution_count": 12,
      "outputs": [
        {
          "output_type": "execute_result",
          "data": {
            "text/plain": [
              "dict_keys(['id', 'name', 'age', 'bdate', 'phone'])"
            ]
          },
          "metadata": {
            "tags": []
          },
          "execution_count": 12
        }
      ]
    },
    {
      "cell_type": "code",
      "metadata": {
        "id": "ZA2PoJV5ftSh",
        "colab_type": "code",
        "colab": {
          "base_uri": "https://localhost:8080/",
          "height": 35
        },
        "outputId": "09366872-2da7-4cb5-80f5-11051a7bc411"
      },
      "source": [
        "dict.pop(\"age\") #pop the items from dict (remove it)\n",
        "dict"
      ],
      "execution_count": 13,
      "outputs": [
        {
          "output_type": "execute_result",
          "data": {
            "text/plain": [
              "{'bdate': '29thmarch2002', 'id': 1, 'name': 'krishna', 'phone': 9898007896}"
            ]
          },
          "metadata": {
            "tags": []
          },
          "execution_count": 13
        }
      ]
    },
    {
      "cell_type": "code",
      "metadata": {
        "id": "agnnUV6pf5hh",
        "colab_type": "code",
        "colab": {
          "base_uri": "https://localhost:8080/",
          "height": 35
        },
        "outputId": "ee600e53-e4fd-4000-ef86-7457375ed43e"
      },
      "source": [
        "copy_dict=dict.copy() #copy dictionary \n",
        "copy_dict"
      ],
      "execution_count": 14,
      "outputs": [
        {
          "output_type": "execute_result",
          "data": {
            "text/plain": [
              "{'bdate': '29thmarch2002', 'id': 1, 'name': 'krishna', 'phone': 9898007896}"
            ]
          },
          "metadata": {
            "tags": []
          },
          "execution_count": 14
        }
      ]
    },
    {
      "cell_type": "code",
      "metadata": {
        "id": "0U373ZqDgFA7",
        "colab_type": "code",
        "colab": {
          "base_uri": "https://localhost:8080/",
          "height": 35
        },
        "outputId": "e277abfc-e366-4a9c-d15d-fea551f068a8"
      },
      "source": [
        "dict.get(\"name\")  #get value of the key from dictonary or perticular items"
      ],
      "execution_count": 15,
      "outputs": [
        {
          "output_type": "execute_result",
          "data": {
            "application/vnd.google.colaboratory.intrinsic+json": {
              "type": "string"
            },
            "text/plain": [
              "'krishna'"
            ]
          },
          "metadata": {
            "tags": []
          },
          "execution_count": 15
        }
      ]
    },
    {
      "cell_type": "code",
      "metadata": {
        "id": "byjhJEyVgR7y",
        "colab_type": "code",
        "colab": {
          "base_uri": "https://localhost:8080/",
          "height": 104
        },
        "outputId": "24387fc6-88d8-4ae9-bd89-c82ed4ffe5b7"
      },
      "source": [
        "dict.update({\"email\":\"ed@g.com\"}) #update dictonary\n",
        "dict"
      ],
      "execution_count": 16,
      "outputs": [
        {
          "output_type": "execute_result",
          "data": {
            "text/plain": [
              "{'bdate': '29thmarch2002',\n",
              " 'email': 'ed@g.com',\n",
              " 'id': 1,\n",
              " 'name': 'krishna',\n",
              " 'phone': 9898007896}"
            ]
          },
          "metadata": {
            "tags": []
          },
          "execution_count": 16
        }
      ]
    },
    {
      "cell_type": "code",
      "metadata": {
        "id": "_sj9K_0WgrX1",
        "colab_type": "code",
        "colab": {
          "base_uri": "https://localhost:8080/",
          "height": 35
        },
        "outputId": "df48c923-2d2d-44e8-f216-89c708f9ea23"
      },
      "source": [
        "dict.clear()  #clear dictonary\n",
        "dict"
      ],
      "execution_count": 17,
      "outputs": [
        {
          "output_type": "execute_result",
          "data": {
            "text/plain": [
              "{}"
            ]
          },
          "metadata": {
            "tags": []
          },
          "execution_count": 17
        }
      ]
    },
    {
      "cell_type": "markdown",
      "metadata": {
        "id": "LWJo4kJjiMuk",
        "colab_type": "text"
      },
      "source": [
        "# Questions 3\n",
        "#Sets and its default functions."
      ]
    },
    {
      "cell_type": "code",
      "metadata": {
        "id": "EwdURNMYiSvb",
        "colab_type": "code",
        "colab": {
          "base_uri": "https://localhost:8080/",
          "height": 35
        },
        "outputId": "afca326d-02c2-4a56-f2fa-7fb262599f53"
      },
      "source": [
        "myset={1,2,3,4,5,6,8,9} #intialize set and print it\n",
        "myset"
      ],
      "execution_count": 18,
      "outputs": [
        {
          "output_type": "execute_result",
          "data": {
            "text/plain": [
              "{1, 2, 3, 4, 5, 6, 8, 9}"
            ]
          },
          "metadata": {
            "tags": []
          },
          "execution_count": 18
        }
      ]
    },
    {
      "cell_type": "code",
      "metadata": {
        "id": "mtE_Fkp4ieGf",
        "colab_type": "code",
        "colab": {
          "base_uri": "https://localhost:8080/",
          "height": 35
        },
        "outputId": "aa280250-2709-46fb-b3ca-194ae73e28aa"
      },
      "source": [
        "myset.add(7) #add elemets in set\n",
        "myset"
      ],
      "execution_count": 19,
      "outputs": [
        {
          "output_type": "execute_result",
          "data": {
            "text/plain": [
              "{1, 2, 3, 4, 5, 6, 7, 8, 9}"
            ]
          },
          "metadata": {
            "tags": []
          },
          "execution_count": 19
        }
      ]
    },
    {
      "cell_type": "code",
      "metadata": {
        "id": "6Tu3HzZRieFg",
        "colab_type": "code",
        "colab": {
          "base_uri": "https://localhost:8080/",
          "height": 35
        },
        "outputId": "67b5eac6-ff0c-492e-ed22-d741cf60d332"
      },
      "source": [
        "myset.update([10,11]) #update set with given item\n",
        "myset"
      ],
      "execution_count": 20,
      "outputs": [
        {
          "output_type": "execute_result",
          "data": {
            "text/plain": [
              "{1, 2, 3, 4, 5, 6, 7, 8, 9, 10, 11}"
            ]
          },
          "metadata": {
            "tags": []
          },
          "execution_count": 20
        }
      ]
    },
    {
      "cell_type": "code",
      "metadata": {
        "id": "FHj87nhgi2vm",
        "colab_type": "code",
        "colab": {
          "base_uri": "https://localhost:8080/",
          "height": 35
        },
        "outputId": "76da19db-6b11-4d2c-dfbe-960666282983"
      },
      "source": [
        "myset.remove(2) #remove 2 from the set\n",
        "myset"
      ],
      "execution_count": 21,
      "outputs": [
        {
          "output_type": "execute_result",
          "data": {
            "text/plain": [
              "{1, 3, 4, 5, 6, 7, 8, 9, 10, 11}"
            ]
          },
          "metadata": {
            "tags": []
          },
          "execution_count": 21
        }
      ]
    },
    {
      "cell_type": "code",
      "metadata": {
        "id": "zpZTfcvfi83k",
        "colab_type": "code",
        "colab": {
          "base_uri": "https://localhost:8080/",
          "height": 35
        },
        "outputId": "1f27159b-e757-4a41-8cb7-57a56ff29b7a"
      },
      "source": [
        "myset.discard(5) #discard that item remove 5 here\n",
        "myset"
      ],
      "execution_count": 22,
      "outputs": [
        {
          "output_type": "execute_result",
          "data": {
            "text/plain": [
              "{1, 3, 4, 6, 7, 8, 9, 10, 11}"
            ]
          },
          "metadata": {
            "tags": []
          },
          "execution_count": 22
        }
      ]
    },
    {
      "cell_type": "code",
      "metadata": {
        "id": "gyQGtLDKjHvQ",
        "colab_type": "code",
        "colab": {
          "base_uri": "https://localhost:8080/",
          "height": 35
        },
        "outputId": "2ef6b9be-cfd5-4bbe-f6ac-0f9c415ab319"
      },
      "source": [
        "myset.pop() #pop item from the set (first item at 0 index)\n",
        "myset"
      ],
      "execution_count": 23,
      "outputs": [
        {
          "output_type": "execute_result",
          "data": {
            "text/plain": [
              "{3, 4, 6, 7, 8, 9, 10, 11}"
            ]
          },
          "metadata": {
            "tags": []
          },
          "execution_count": 23
        }
      ]
    },
    {
      "cell_type": "code",
      "metadata": {
        "id": "dUkDrNH0jVjG",
        "colab_type": "code",
        "colab": {
          "base_uri": "https://localhost:8080/",
          "height": 35
        },
        "outputId": "ade03d86-26ce-4c02-e1e2-611bac914ea8"
      },
      "source": [
        "myset.clear() #clear the set\n",
        "myset"
      ],
      "execution_count": 24,
      "outputs": [
        {
          "output_type": "execute_result",
          "data": {
            "text/plain": [
              "set()"
            ]
          },
          "metadata": {
            "tags": []
          },
          "execution_count": 24
        }
      ]
    },
    {
      "cell_type": "code",
      "metadata": {
        "id": "-9iHg9QAjZS9",
        "colab_type": "code",
        "colab": {}
      },
      "source": [
        "# two sets function\n",
        "set1={1,4,3,5,7,9}\n",
        "set2={2,4,6,8,10}"
      ],
      "execution_count": 25,
      "outputs": []
    },
    {
      "cell_type": "code",
      "metadata": {
        "id": "XKYDZcL9jhcu",
        "colab_type": "code",
        "colab": {
          "base_uri": "https://localhost:8080/",
          "height": 35
        },
        "outputId": "da84f492-d1d1-4ccd-d2ff-ca607b5940e7"
      },
      "source": [
        "setunion=set1.union(set2) #union of sets\n",
        "setunion"
      ],
      "execution_count": 26,
      "outputs": [
        {
          "output_type": "execute_result",
          "data": {
            "text/plain": [
              "{1, 2, 3, 4, 5, 6, 7, 8, 9, 10}"
            ]
          },
          "metadata": {
            "tags": []
          },
          "execution_count": 26
        }
      ]
    },
    {
      "cell_type": "code",
      "metadata": {
        "id": "ina9nQU1jsyr",
        "colab_type": "code",
        "colab": {
          "base_uri": "https://localhost:8080/",
          "height": 35
        },
        "outputId": "f6809e5f-2db5-45ed-ba18-f0a287ca2a47"
      },
      "source": [
        "setdiff=set1.difference(set2)  #differance between 2 set\n",
        "setdiff"
      ],
      "execution_count": 27,
      "outputs": [
        {
          "output_type": "execute_result",
          "data": {
            "text/plain": [
              "{1, 3, 5, 7, 9}"
            ]
          },
          "metadata": {
            "tags": []
          },
          "execution_count": 27
        }
      ]
    },
    {
      "cell_type": "markdown",
      "metadata": {
        "id": "VvMEmuqaj-Dt",
        "colab_type": "text"
      },
      "source": [
        "# Questions 4\n",
        "#Tuple and explore default methods."
      ]
    },
    {
      "cell_type": "code",
      "metadata": {
        "id": "j2EsrIOnkE9h",
        "colab_type": "code",
        "colab": {
          "base_uri": "https://localhost:8080/",
          "height": 35
        },
        "outputId": "1b918939-fe18-4cb0-dfef-7256925d5cce"
      },
      "source": [
        "mytup=(\"apple\",\"banana\",\"cat\",\"dog\",\"elephant\",\"fan\",\"goat\",\"hourse\",\"cat\") #intialize tuple and print it\n",
        "mytup"
      ],
      "execution_count": 28,
      "outputs": [
        {
          "output_type": "execute_result",
          "data": {
            "text/plain": [
              "('apple', 'banana', 'cat', 'dog', 'elephant', 'fan', 'goat', 'hourse', 'cat')"
            ]
          },
          "metadata": {
            "tags": []
          },
          "execution_count": 28
        }
      ]
    },
    {
      "cell_type": "code",
      "metadata": {
        "id": "xd1dr3jRkVGt",
        "colab_type": "code",
        "colab": {
          "base_uri": "https://localhost:8080/",
          "height": 35
        },
        "outputId": "fb645704-c534-401b-c12c-d22e02c3d1d2"
      },
      "source": [
        "mytup.count(\"cat\") #count occurance of word"
      ],
      "execution_count": 29,
      "outputs": [
        {
          "output_type": "execute_result",
          "data": {
            "text/plain": [
              "2"
            ]
          },
          "metadata": {
            "tags": []
          },
          "execution_count": 29
        }
      ]
    },
    {
      "cell_type": "code",
      "metadata": {
        "id": "HaWku9iLkdiQ",
        "colab_type": "code",
        "colab": {
          "base_uri": "https://localhost:8080/",
          "height": 35
        },
        "outputId": "4b285a0a-3904-4e9b-c1aa-de26a9d95198"
      },
      "source": [
        "mytup.index(\"fan\") #return thr index of word"
      ],
      "execution_count": 30,
      "outputs": [
        {
          "output_type": "execute_result",
          "data": {
            "text/plain": [
              "5"
            ]
          },
          "metadata": {
            "tags": []
          },
          "execution_count": 30
        }
      ]
    },
    {
      "cell_type": "markdown",
      "metadata": {
        "id": "8jyWAdJ6kraa",
        "colab_type": "text"
      },
      "source": [
        "# Questions 5\n",
        "#Strings and explore default methods."
      ]
    },
    {
      "cell_type": "code",
      "metadata": {
        "id": "oTpwh6qikwlr",
        "colab_type": "code",
        "colab": {
          "base_uri": "https://localhost:8080/",
          "height": 35
        },
        "outputId": "8a52242e-940c-4250-a01b-7dacfeb850ba"
      },
      "source": [
        "a=\"hello world\"\n",
        "a"
      ],
      "execution_count": 31,
      "outputs": [
        {
          "output_type": "execute_result",
          "data": {
            "application/vnd.google.colaboratory.intrinsic+json": {
              "type": "string"
            },
            "text/plain": [
              "'hello world'"
            ]
          },
          "metadata": {
            "tags": []
          },
          "execution_count": 31
        }
      ]
    },
    {
      "cell_type": "code",
      "metadata": {
        "id": "tVEs2pHPk5m2",
        "colab_type": "code",
        "colab": {
          "base_uri": "https://localhost:8080/",
          "height": 35
        },
        "outputId": "b4932f82-8d50-4037-e682-2ff5da415060"
      },
      "source": [
        "a.count(\"l\") #count occurance"
      ],
      "execution_count": 32,
      "outputs": [
        {
          "output_type": "execute_result",
          "data": {
            "text/plain": [
              "3"
            ]
          },
          "metadata": {
            "tags": []
          },
          "execution_count": 32
        }
      ]
    },
    {
      "cell_type": "code",
      "metadata": {
        "id": "uKZgRA6Rk9lc",
        "colab_type": "code",
        "colab": {
          "base_uri": "https://localhost:8080/",
          "height": 35
        },
        "outputId": "118b3886-c994-480b-e648-9b094ecc8fb5"
      },
      "source": [
        "a.find(\"w\") #return index of item\n"
      ],
      "execution_count": 33,
      "outputs": [
        {
          "output_type": "execute_result",
          "data": {
            "text/plain": [
              "6"
            ]
          },
          "metadata": {
            "tags": []
          },
          "execution_count": 33
        }
      ]
    },
    {
      "cell_type": "code",
      "metadata": {
        "id": "c2bZlp2VlQnq",
        "colab_type": "code",
        "colab": {
          "base_uri": "https://localhost:8080/",
          "height": 35
        },
        "outputId": "70e06536-f04a-46c9-d913-9d2e5cd8a23d"
      },
      "source": [
        "a.index(\"d\") #return index of item"
      ],
      "execution_count": 34,
      "outputs": [
        {
          "output_type": "execute_result",
          "data": {
            "text/plain": [
              "10"
            ]
          },
          "metadata": {
            "tags": []
          },
          "execution_count": 34
        }
      ]
    },
    {
      "cell_type": "code",
      "metadata": {
        "id": "mhm2WRFOlYxf",
        "colab_type": "code",
        "colab": {
          "base_uri": "https://localhost:8080/",
          "height": 35
        },
        "outputId": "c270ed75-03bc-4213-d078-8184612d59c3"
      },
      "source": [
        "a.isdecimal() #check string  is decimal or not"
      ],
      "execution_count": 35,
      "outputs": [
        {
          "output_type": "execute_result",
          "data": {
            "text/plain": [
              "False"
            ]
          },
          "metadata": {
            "tags": []
          },
          "execution_count": 35
        }
      ]
    },
    {
      "cell_type": "code",
      "metadata": {
        "id": "ga6Z8S3NleVB",
        "colab_type": "code",
        "colab": {
          "base_uri": "https://localhost:8080/",
          "height": 35
        },
        "outputId": "b627605e-bb2a-4ce1-d9ff-0c41558eb555"
      },
      "source": [
        "a.split(\" \") #split string from the given character"
      ],
      "execution_count": 36,
      "outputs": [
        {
          "output_type": "execute_result",
          "data": {
            "text/plain": [
              "['hello', 'world']"
            ]
          },
          "metadata": {
            "tags": []
          },
          "execution_count": 36
        }
      ]
    },
    {
      "cell_type": "code",
      "metadata": {
        "id": "uLw_8HLrluo5",
        "colab_type": "code",
        "colab": {}
      },
      "source": [
        ""
      ],
      "execution_count": 36,
      "outputs": []
    }
  ]
}