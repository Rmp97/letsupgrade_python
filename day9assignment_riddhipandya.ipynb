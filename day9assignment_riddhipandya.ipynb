{
  "nbformat": 4,
  "nbformat_minor": 0,
  "metadata": {
    "colab": {
      "name": "day9assignment_riddhipandya.ipynb",
      "provenance": [],
      "collapsed_sections": []
    },
    "kernelspec": {
      "name": "python3",
      "display_name": "Python 3"
    }
  },
  "cells": [
    {
      "cell_type": "markdown",
      "metadata": {
        "id": "BO00dJ9y4k5H",
        "colab_type": "text"
      },
      "source": [
        "#Question 1\n",
        "Write a python Function for finding is a given number prime or not and do Unit Testing on it using\n",
        "PyLint and Unittest Library."
      ]
    },
    {
      "cell_type": "code",
      "metadata": {
        "id": "0DzbHGif4WLq",
        "colab_type": "code",
        "colab": {
          "base_uri": "https://localhost:8080/",
          "height": 419
        },
        "outputId": "c1db4469-78c9-43b4-dcfa-7667c253d374"
      },
      "source": [
        "! pip install pylint\n"
      ],
      "execution_count": 1,
      "outputs": [
        {
          "output_type": "stream",
          "text": [
            "Collecting pylint\n",
            "\u001b[?25l  Downloading https://files.pythonhosted.org/packages/fb/13/519c1264a134beab2be4bac8dd3e64948980a5ca7833b31cf0255b21f20a/pylint-2.6.0-py3-none-any.whl (325kB)\n",
            "\u001b[K     |████████████████████████████████| 327kB 2.8MB/s \n",
            "\u001b[?25hCollecting isort<6,>=4.2.5\n",
            "\u001b[?25l  Downloading https://files.pythonhosted.org/packages/d1/25/7ed95ccb07d3ce52598f5a57d002da6a18074ea8749991b10936cc20e539/isort-5.5.2-py3-none-any.whl (95kB)\n",
            "\u001b[K     |████████████████████████████████| 102kB 5.7MB/s \n",
            "\u001b[?25hRequirement already satisfied: toml>=0.7.1 in /usr/local/lib/python3.6/dist-packages (from pylint) (0.10.1)\n",
            "Collecting astroid<=2.5,>=2.4.0\n",
            "\u001b[?25l  Downloading https://files.pythonhosted.org/packages/24/a8/5133f51967fb21e46ee50831c3f5dda49e976b7f915408d670b1603d41d6/astroid-2.4.2-py3-none-any.whl (213kB)\n",
            "\u001b[K     |████████████████████████████████| 215kB 7.4MB/s \n",
            "\u001b[?25hCollecting mccabe<0.7,>=0.6\n",
            "  Downloading https://files.pythonhosted.org/packages/87/89/479dc97e18549e21354893e4ee4ef36db1d237534982482c3681ee6e7b57/mccabe-0.6.1-py2.py3-none-any.whl\n",
            "Collecting typed-ast<1.5,>=1.4.0; implementation_name == \"cpython\" and python_version < \"3.8\"\n",
            "\u001b[?25l  Downloading https://files.pythonhosted.org/packages/90/ed/5459080d95eb87a02fe860d447197be63b6e2b5e9ff73c2b0a85622994f4/typed_ast-1.4.1-cp36-cp36m-manylinux1_x86_64.whl (737kB)\n",
            "\u001b[K     |████████████████████████████████| 747kB 12.0MB/s \n",
            "\u001b[?25hCollecting lazy-object-proxy==1.4.*\n",
            "\u001b[?25l  Downloading https://files.pythonhosted.org/packages/0b/dd/b1e3407e9e6913cf178e506cd0dee818e58694d9a5cd1984e3f6a8b9a10f/lazy_object_proxy-1.4.3-cp36-cp36m-manylinux1_x86_64.whl (55kB)\n",
            "\u001b[K     |████████████████████████████████| 61kB 6.5MB/s \n",
            "\u001b[?25hRequirement already satisfied: wrapt~=1.11 in /usr/local/lib/python3.6/dist-packages (from astroid<=2.5,>=2.4.0->pylint) (1.12.1)\n",
            "Requirement already satisfied: six~=1.12 in /usr/local/lib/python3.6/dist-packages (from astroid<=2.5,>=2.4.0->pylint) (1.15.0)\n",
            "Installing collected packages: isort, typed-ast, lazy-object-proxy, astroid, mccabe, pylint\n",
            "Successfully installed astroid-2.4.2 isort-5.5.2 lazy-object-proxy-1.4.3 mccabe-0.6.1 pylint-2.6.0 typed-ast-1.4.1\n"
          ],
          "name": "stdout"
        }
      ]
    },
    {
      "cell_type": "code",
      "metadata": {
        "id": "s8fqJs1ILw7q",
        "colab_type": "code",
        "colab": {
          "base_uri": "https://localhost:8080/",
          "height": 35
        },
        "outputId": "ab36c652-a785-4f4e-b23a-8ab3f13171c4"
      },
      "source": [
        "%%writefile PrimeNo.py\n",
        "\n",
        "def PrimeNo_check(check_primeNo):\n",
        "      if check_primeNo > 1:\n",
        "        for i in range(2,check_primeNo):\n",
        "            if (check_primeNo % i) == 0:\n",
        "                print(check_primeNo,\"is not a prime number\")\n",
        "                break\n",
        "        else:\n",
        "            print(check_primeNo,\"is a prime number\")\n",
        "            \n",
        "      # if input number is less than\n",
        "      # or equal to 1, it is not prime\n",
        "      else:\n",
        "        print(check_primeNo,\"is not a prime number\")\n"
      ],
      "execution_count": 2,
      "outputs": [
        {
          "output_type": "stream",
          "text": [
            "Writing PrimeNo.py\n"
          ],
          "name": "stdout"
        }
      ]
    },
    {
      "cell_type": "code",
      "metadata": {
        "id": "N8ORAZX4L5xx",
        "colab_type": "code",
        "colab": {
          "base_uri": "https://localhost:8080/",
          "height": 35
        },
        "outputId": "56f57f63-41eb-411b-f2dd-74b0aa196228"
      },
      "source": [
        "import PrimeNo\n",
        "\n",
        "PrimeNo.PrimeNo_check(9)\n"
      ],
      "execution_count": 3,
      "outputs": [
        {
          "output_type": "stream",
          "text": [
            "9 is not a prime number\n"
          ],
          "name": "stdout"
        }
      ]
    },
    {
      "cell_type": "code",
      "metadata": {
        "id": "Q14tPZdLL85y",
        "colab_type": "code",
        "colab": {
          "base_uri": "https://localhost:8080/",
          "height": 35
        },
        "outputId": "a669f728-2636-4866-9f42-9de951d268fe"
      },
      "source": [
        "%%writefile testPrimeNo.py\n",
        "\n",
        "import unittest\n",
        "import PrimeNo\n",
        "\n",
        "class testPrimeNo(unittest.TestCase):\n",
        "    def testPrime(self):\n",
        "        abc = 9\n",
        "        result = PrimeNo.PrimeNo_check(abc)\n",
        "        self.assertEquals(result, 9)\n",
        "        \n",
        "    \n",
        "\n",
        "if __name__ == \"__main__\":\n",
        "    unittest.main()"
      ],
      "execution_count": 4,
      "outputs": [
        {
          "output_type": "stream",
          "text": [
            "Writing testPrimeNo.py\n"
          ],
          "name": "stdout"
        }
      ]
    },
    {
      "cell_type": "code",
      "metadata": {
        "id": "ekfS9i8hMCXr",
        "colab_type": "code",
        "colab": {
          "base_uri": "https://localhost:8080/",
          "height": 260
        },
        "outputId": "b8db7e27-09cc-40d2-f049-7b4d2686b82f"
      },
      "source": [
        "# ! python testCapText.py\n",
        "! python testPrimeNo.py\n"
      ],
      "execution_count": 5,
      "outputs": [
        {
          "output_type": "stream",
          "text": [
            "9 is not a prime number\n",
            "F\n",
            "======================================================================\n",
            "FAIL: testPrime (__main__.testPrimeNo)\n",
            "----------------------------------------------------------------------\n",
            "Traceback (most recent call last):\n",
            "  File \"testPrimeNo.py\", line 9, in testPrime\n",
            "    self.assertEquals(result, 9)\n",
            "AssertionError: None != 9\n",
            "\n",
            "----------------------------------------------------------------------\n",
            "Ran 1 test in 0.000s\n",
            "\n",
            "FAILED (failures=1)\n"
          ],
          "name": "stdout"
        }
      ]
    },
    {
      "cell_type": "markdown",
      "metadata": {
        "id": "vzfzqkBC4mwe",
        "colab_type": "text"
      },
      "source": [
        "#Question 2\n",
        "Make a small generator program for returning armstrong numbers in between 1-1000 in a\n",
        "generator object."
      ]
    },
    {
      "cell_type": "code",
      "metadata": {
        "id": "tHS9xgkUiUlV",
        "colab_type": "code",
        "colab": {}
      },
      "source": [
        "#The n-digit numbers equal to the sum of nth powers of their digits (a finite sequence) are called \n",
        "#Armstrong numbers or plus perfect number \n",
        "#and are given by 1, 2, 3, 4, 5, 6, 7, 8, 9, 153, 370, 371, 407, 1634, 8208, 9474, 54748, ... \n",
        "import math\n",
        "def getArmstrong(lower,upper):\n",
        "    for num in range(lower, upper + 1):\n",
        "\n",
        "        # order of number\n",
        "        order = len(str(num))\n",
        "          \n",
        "        # initialize sum\n",
        "        sum = 0\n",
        "\n",
        "        temp = num\n",
        "        while temp > 0:\n",
        "            digit = temp % 10\n",
        "            sum += digit ** order\n",
        "            temp //= 10\n",
        "\n",
        "        if num == sum:\n",
        "            print(num)\n",
        "          \n",
        "            "
      ],
      "execution_count": 6,
      "outputs": []
    },
    {
      "cell_type": "code",
      "metadata": {
        "id": "4ZtFlRT-NEJO",
        "colab_type": "code",
        "colab": {
          "base_uri": "https://localhost:8080/",
          "height": 243
        },
        "outputId": "85e3317e-6c1b-4b86-e9e3-c6b2d9394782"
      },
      "source": [
        "getArmstrong(1,1000)\n"
      ],
      "execution_count": 7,
      "outputs": [
        {
          "output_type": "stream",
          "text": [
            "1\n",
            "2\n",
            "3\n",
            "4\n",
            "5\n",
            "6\n",
            "7\n",
            "8\n",
            "9\n",
            "153\n",
            "370\n",
            "371\n",
            "407\n"
          ],
          "name": "stdout"
        }
      ]
    },
    {
      "cell_type": "code",
      "metadata": {
        "id": "oMLPMyQzlE0F",
        "colab_type": "code",
        "colab": {}
      },
      "source": [
        "def getArmstrongGen(lower, upper):\n",
        "  for num in range(lower, upper + 1):\n",
        "\n",
        "        # order of number\n",
        "        order = len(str(num))\n",
        "          \n",
        "        # initialize sum\n",
        "        sum = 0\n",
        "\n",
        "        temp = num\n",
        "        while temp > 0:\n",
        "            digit = temp % 10\n",
        "            sum += digit ** order\n",
        "            temp //= 10\n",
        "\n",
        "        if num == sum:\n",
        "            print(num)\n",
        "          "
      ],
      "execution_count": 8,
      "outputs": []
    },
    {
      "cell_type": "code",
      "metadata": {
        "id": "_OoWX1KZNPDn",
        "colab_type": "code",
        "colab": {
          "base_uri": "https://localhost:8080/",
          "height": 243
        },
        "outputId": "40f69b1f-aad4-48e1-cd1b-ea4d01b2d62a"
      },
      "source": [
        "getArmstrongGen(1,1000)"
      ],
      "execution_count": 9,
      "outputs": [
        {
          "output_type": "stream",
          "text": [
            "1\n",
            "2\n",
            "3\n",
            "4\n",
            "5\n",
            "6\n",
            "7\n",
            "8\n",
            "9\n",
            "153\n",
            "370\n",
            "371\n",
            "407\n"
          ],
          "name": "stdout"
        }
      ]
    }
  ]
}