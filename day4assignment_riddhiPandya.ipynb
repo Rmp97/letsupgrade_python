{
  "nbformat": 4,
  "nbformat_minor": 0,
  "metadata": {
    "colab": {
      "name": "day4assignment_riddhiPandya.ipynb",
      "provenance": [],
      "collapsed_sections": []
    },
    "kernelspec": {
      "name": "python3",
      "display_name": "Python 3"
    },
    "accelerator": "GPU"
  },
  "cells": [
    {
      "cell_type": "markdown",
      "metadata": {
        "id": "WYzr4lyts_2r",
        "colab_type": "text"
      },
      "source": [
        "# Question 1\n",
        "Print the first ArmStrong number in the range of 1042000 to 702648265 and exit the loop as soon\n",
        "as you encounter the first armstrong number.\n",
        "Use while loop\n",
        "Output-\n",
        "The first armstrong number is -----------"
      ]
    },
    {
      "cell_type": "code",
      "metadata": {
        "id": "9-KwfDRWDThH",
        "colab_type": "code",
        "colab": {}
      },
      "source": [
        "#here ther might be no armstrong number between this range so i have also did one more occurance for diffrent range so the program is checked"
      ],
      "execution_count": null,
      "outputs": []
    },
    {
      "cell_type": "code",
      "metadata": {
        "id": "g3vH25j_tDe3",
        "colab_type": "code",
        "colab": {
          "base_uri": "https://localhost:8080/",
          "height": 35
        },
        "outputId": "9586efb3-d363-4b7e-9f7c-437a3ccdaa6a"
      },
      "source": [
        "lower = 1042000\n",
        "upper = 702648265\n",
        "  \n",
        "for num in range(lower,upper + 1):  \n",
        "   sum = 0  \n",
        "   temp = num  \n",
        "   while temp > 0:  \n",
        "       digit = temp % 10  \n",
        "       sum += digit ** 3  \n",
        "       temp //= 10  \n",
        "   if num == sum:\n",
        "      print(num);\n",
        "      break;\n",
        "print(\"done\");#if there is no armstrong num then print done"
      ],
      "execution_count": null,
      "outputs": [
        {
          "output_type": "stream",
          "text": [
            "done\n"
          ],
          "name": "stdout"
        }
      ]
    },
    {
      "cell_type": "code",
      "metadata": {
        "id": "gJajMq62Dfkk",
        "colab_type": "code",
        "colab": {
          "base_uri": "https://localhost:8080/",
          "height": 52
        },
        "outputId": "015f7d44-e055-4ac9-ce67-e270a7f6608e"
      },
      "source": [
        "lower = 100\n",
        "upper = 200\n",
        "  \n",
        "for num in range(lower,upper + 1):  \n",
        "   sum = 0  \n",
        "   temp = num  \n",
        "   while temp > 0:  \n",
        "       digit = temp % 10  \n",
        "       sum += digit ** 3  \n",
        "       temp //= 10  \n",
        "   if num == sum:\n",
        "      print(num);\n",
        "      break;\n",
        "print(\"done\");#if there is no armstrong num then print done"
      ],
      "execution_count": null,
      "outputs": [
        {
          "output_type": "stream",
          "text": [
            "153\n",
            "done\n"
          ],
          "name": "stdout"
        }
      ]
    }
  ]
}