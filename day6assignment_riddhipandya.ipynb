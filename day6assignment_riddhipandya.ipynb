{
  "nbformat": 4,
  "nbformat_minor": 0,
  "metadata": {
    "colab": {
      "name": "day6assignment_riddhipandya.ipynb",
      "provenance": [],
      "collapsed_sections": []
    },
    "kernelspec": {
      "name": "python3",
      "display_name": "Python 3"
    }
  },
  "cells": [
    {
      "cell_type": "markdown",
      "metadata": {
        "id": "1vnWcvBj-sF8",
        "colab_type": "text"
      },
      "source": [
        "Question 1\n",
        "For this challenge,create a bank account class that has two attributes\n",
        "*ownerName\n",
        "*Balance\n",
        "And two methods\n",
        "*deposit\n",
        "*withdraw\n",
        "As an added requirement,withdrawals may not exceed the available balance.\n",
        "Instantiate your class,make several deposits and withdrawals,and test to make sure the account\n",
        "cant be overdrawn."
      ]
    },
    {
      "cell_type": "code",
      "metadata": {
        "id": "GabNZraU-yEE",
        "colab_type": "code",
        "colab": {
          "base_uri": "https://localhost:8080/",
          "height": 191
        },
        "outputId": "99b6ecd4-bc62-4836-b858-f9181cf79e0a"
      },
      "source": [
        "class Bank_Account: \n",
        "    def __init__(self,name,balance): \n",
        "        self.balance=balance\n",
        "        self.name=name\n",
        "        print(\"Hello!!! \",self.name ,\"Welcome to the Deposit & Withdrawal Machine your current balance is \",self.balance) \n",
        "  \n",
        "    def deposit(self): \n",
        "        amount=float(input(\"Enter amount to be Deposited: \")) \n",
        "        self.balance += amount \n",
        "        print(\"\\n Amount Deposited:\",amount,\"balnce is\",self.balance) \n",
        "  \n",
        "    def withdraw(self): \n",
        "        amount = float(input(\"Enter amount to be Withdrawn: \")) \n",
        "        if self.balance>=amount: \n",
        "            self.balance-=amount \n",
        "            print(\"\\n You Withdrew:\", amount ,\"balance is\", self.balance) \n",
        "        else: \n",
        "            print(\"\\n Insufficient balance  \") \n",
        "  \n",
        "    def display(self): \n",
        "        print(\"\\n Net Available Balance=\",self.balance) \n",
        "  \n",
        "# Driver code \n",
        "   \n",
        "# creating an object of class \n",
        "name=input(\"enter your name\")\n",
        "s = Bank_Account(name,1000) \n",
        "   \n",
        "# Calling functions with that class object \n",
        "s.deposit() \n",
        "s.withdraw() \n",
        "s.display() \n"
      ],
      "execution_count": 1,
      "outputs": [
        {
          "output_type": "stream",
          "text": [
            "enter your namejiya\n",
            "Hello!!!  jiya Welcome to the Deposit & Withdrawal Machine your current balance is  1000\n",
            "Enter amount to be Deposited: 200\n",
            "\n",
            " Amount Deposited: 200.0 balnce is 1200.0\n",
            "Enter amount to be Withdrawn: 500\n",
            "\n",
            " You Withdrew: 500.0 balance is 700.0\n",
            "\n",
            " Net Available Balance= 700.0\n"
          ],
          "name": "stdout"
        }
      ]
    },
    {
      "cell_type": "markdown",
      "metadata": {
        "id": "yMid4UYX-trN",
        "colab_type": "text"
      },
      "source": [
        "Question 2\n",
        "For this challenge,create a cone class that has two attributes:\n",
        "*R=Radius\n",
        "*h=Height\n",
        "And two methods:\n",
        "*Volume = Π * r2 = (h/3)\n",
        "*Surface area : base : Π * r2 , side : Π * r * √(r2 + h2)\n",
        "Make only one class with functions,as in where required import Math."
      ]
    },
    {
      "cell_type": "code",
      "metadata": {
        "id": "BKnvs5_o-G3o",
        "colab_type": "code",
        "colab": {
          "base_uri": "https://localhost:8080/",
          "height": 139
        },
        "outputId": "89749dfc-0c6f-4538-fe09-0e403206bf92"
      },
      "source": [
        "import math \n",
        "pi = math.pi \n",
        "class cone:\n",
        "    def __init__(self,radius,height,slant_height): \n",
        "        self.radius=radius\n",
        "        self.height=height\n",
        "        self.slant_height=slant_height\n",
        "        print(\"Hello!!! \",self.radius ,\"is radius and height is \",self.height,\"slant_height is\", slant_height) \n",
        "  \n",
        "    def volume(self): \n",
        "        \n",
        "        vol=(float(1) / float(3)) * pi * radius * radius * height;\n",
        "        print(\"\\n volume is  \" ,vol) \n",
        "  \n",
        "    def surfacearea(self): \n",
        "      \n",
        "        area = pi * radius * slant_height + pi * radius * radius  \n",
        "        print(\"area is:  \", area)\n",
        "\n",
        "# drivar code\n",
        "# creating an object of class \n",
        "radius=float(input(\"enter radius\"))\n",
        "height=float(input(\"enter height\"))\n",
        "slant_height=float(input(\"enter slant_hright\"))\n",
        "s = cone(radius,height,slant_height) \n",
        "s.volume()\n",
        "s.surfacearea()\n",
        "\n",
        "    "
      ],
      "execution_count": 2,
      "outputs": [
        {
          "output_type": "stream",
          "text": [
            "enter radius20\n",
            "enter height30\n",
            "enter slant_hright10\n",
            "Hello!!!  20.0 is radius and height is  30.0 slant_height is 10.0\n",
            "\n",
            " volume is   12566.370614359172\n",
            "area is:   1884.9555921538758\n"
          ],
          "name": "stdout"
        }
      ]
    }
  ]
}