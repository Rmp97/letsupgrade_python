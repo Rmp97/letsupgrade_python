{
  "nbformat": 4,
  "nbformat_minor": 0,
  "metadata": {
    "colab": {
      "name": "day3_assignment_solution_python.ipynb",
      "provenance": [],
      "collapsed_sections": []
    },
    "kernelspec": {
      "name": "python3",
      "display_name": "Python 3"
    }
  },
  "cells": [
    {
      "cell_type": "markdown",
      "metadata": {
        "id": "X9AyVJPTnwJi",
        "colab_type": "text"
      },
      "source": [
        "# Question 1\n",
        "You all are Pilots, you want to land a plane safely, so altitude required for landing a plane is\n",
        "1000ft, it it is less than tell pilot to land the plane, or it is more than that but less than 5000ft ask\n",
        "the pilot to “come down to 1000ft”, else if it more than 5000ft ask the pilot to “go around and try\n",
        "later”\n",
        "Example : Input - 1000\n",
        "Output - Safe to Land\n",
        "Example : Input - 4500\n",
        "Output - Bring down to 1000\n",
        "Example : Input - 6500\n",
        "Output - Turn Around\n"
      ]
    },
    {
      "cell_type": "code",
      "metadata": {
        "id": "avPZ9slxoB3g",
        "colab_type": "code",
        "colab": {
          "base_uri": "https://localhost:8080/",
          "height": 52
        },
        "outputId": "0029f0d8-a4a3-46fc-d574-19b87b849f5c"
      },
      "source": [
        "altitude=2000\n",
        "print(altitude)\n",
        "if altitude<=1000:\n",
        "  print(\"safe to land\");\n",
        "elif altitude>1000 and altitude<5000:\n",
        "  print(\"come down to 1000 ft\") ;\n",
        "else :\n",
        "  print(\"go around and try later\");\n"
      ],
      "execution_count": 11,
      "outputs": [
        {
          "output_type": "stream",
          "text": [
            "2000\n",
            "come down to 1000 ft\n"
          ],
          "name": "stdout"
        }
      ]
    },
    {
      "cell_type": "markdown",
      "metadata": {
        "id": "amoBpBcpqOms",
        "colab_type": "text"
      },
      "source": [
        "#Question 2\n",
        "Using for loop please print all the prime numbers between 1- 200 using FOR LOOP AND RANGE\n",
        "function.\n",
        "Output-\n",
        "2,3,5,7….."
      ]
    },
    {
      "cell_type": "code",
      "metadata": {
        "id": "23ZYi74uqUYE",
        "colab_type": "code",
        "colab": {
          "base_uri": "https://localhost:8080/",
          "height": 815
        },
        "outputId": "765e6c69-0713-4d7b-cf09-4736fb7fa8ad"
      },
      "source": [
        "for num in range(1, 200 + 1):\n",
        "   # all prime numbers are greater than 1\n",
        "   if num > 1:\n",
        "       for i in range(2, num):\n",
        "           if (num % i) == 0:\n",
        "               break\n",
        "       else:\n",
        "           print(num)\n",
        "  "
      ],
      "execution_count": 26,
      "outputs": [
        {
          "output_type": "stream",
          "text": [
            "2\n",
            "3\n",
            "5\n",
            "7\n",
            "11\n",
            "13\n",
            "17\n",
            "19\n",
            "23\n",
            "29\n",
            "31\n",
            "37\n",
            "41\n",
            "43\n",
            "47\n",
            "53\n",
            "59\n",
            "61\n",
            "67\n",
            "71\n",
            "73\n",
            "79\n",
            "83\n",
            "89\n",
            "97\n",
            "101\n",
            "103\n",
            "107\n",
            "109\n",
            "113\n",
            "127\n",
            "131\n",
            "137\n",
            "139\n",
            "149\n",
            "151\n",
            "157\n",
            "163\n",
            "167\n",
            "173\n",
            "179\n",
            "181\n",
            "191\n",
            "193\n",
            "197\n",
            "199\n"
          ],
          "name": "stdout"
        }
      ]
    }
  ]
}