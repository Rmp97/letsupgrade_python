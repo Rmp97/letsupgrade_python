{
  "nbformat": 4,
  "nbformat_minor": 0,
  "metadata": {
    "colab": {
      "name": "day8assignment_riddhipandya.ipynb",
      "provenance": [],
      "collapsed_sections": []
    },
    "kernelspec": {
      "name": "python3",
      "display_name": "Python 3"
    }
  },
  "cells": [
    {
      "cell_type": "markdown",
      "metadata": {
        "id": "z2_Q-QUI4dEp",
        "colab_type": "text"
      },
      "source": [
        "#Question 1\n",
        "Write a decorator function for your taking input for you any kind of function you want to build,\n",
        "For example - You make a fibonacci series function,in which your input range is been defined by\n",
        "the decorator program input."
      ]
    },
    {
      "cell_type": "code",
      "metadata": {
        "id": "1PyndcD3_Oug",
        "colab_type": "code",
        "colab": {}
      },
      "source": [
        "def getInput(calculate_arg_fun):\n",
        "    def ip_function():\n",
        "        print(\"Hey people enter number\")\n",
        "        a = int(input(\"Enter your Number - \"))\n",
        "        calculate_arg_fun(a)   \n",
        "    return ip_function"
      ],
      "execution_count": 1,
      "outputs": []
    },
    {
      "cell_type": "code",
      "metadata": {
        "id": "aQcN_dnt_RKV",
        "colab_type": "code",
        "colab": {}
      },
      "source": [
        "import math\n",
        "@getInput\n",
        "def factorial(num1):\n",
        "    print(\"The factorial of \", num1, \" is : \")\n",
        "    print(math.factorial(int(num1)))\n",
        "   "
      ],
      "execution_count": 2,
      "outputs": []
    },
    {
      "cell_type": "code",
      "metadata": {
        "id": "4J6ly9pjAETp",
        "colab_type": "code",
        "colab": {}
      },
      "source": [
        "@getInput\n",
        "def odd(num1):\n",
        "  if num1%2==0:\n",
        "    print(\"even:\" ,num1)\n",
        "  else:\n",
        "    print(\"odd:\" ,num1)"
      ],
      "execution_count": 3,
      "outputs": []
    },
    {
      "cell_type": "code",
      "metadata": {
        "id": "3Y0DlYxc_UDF",
        "colab_type": "code",
        "colab": {
          "base_uri": "https://localhost:8080/",
          "height": 87
        },
        "outputId": "b81fe832-c244-40d7-a2d6-88dd759f3ef2"
      },
      "source": [
        "factorial()\n"
      ],
      "execution_count": 4,
      "outputs": [
        {
          "output_type": "stream",
          "text": [
            "Hey people enter number\n",
            "Enter your Number - 4\n",
            "The factorial of  4  is : \n",
            "24\n"
          ],
          "name": "stdout"
        }
      ]
    },
    {
      "cell_type": "code",
      "metadata": {
        "id": "uLvJdCw3Aut4",
        "colab_type": "code",
        "colab": {
          "base_uri": "https://localhost:8080/",
          "height": 69
        },
        "outputId": "c1eddf77-c5b8-461c-f38a-b6ed8a7287a1"
      },
      "source": [
        "odd()"
      ],
      "execution_count": 5,
      "outputs": [
        {
          "output_type": "stream",
          "text": [
            "Hey people enter number\n",
            "Enter your Number - 9\n",
            "odd: 9\n"
          ],
          "name": "stdout"
        }
      ]
    },
    {
      "cell_type": "markdown",
      "metadata": {
        "id": "mwOroMlq4ela",
        "colab_type": "text"
      },
      "source": [
        "#Question 2\n",
        "For this challenge you need to develop a Python program to open a file in read only mode and try\n",
        "writing something to it and handle the subsequent errors using Exception Handling."
      ]
    },
    {
      "cell_type": "code",
      "metadata": {
        "id": "DD_sJV9gGIQB",
        "colab_type": "code",
        "colab": {
          "base_uri": "https://localhost:8080/",
          "height": 277
        },
        "outputId": "d2000d19-b823-4d0d-bd3d-a5b500517eea"
      },
      "source": [
        "#file handling in google colab \n",
        "#download the example file\n",
        "!wget /resources/data/Example1.txt https://s3-api.us-geo.objectstorage.softlayer.net/cf-courses-data/CognitiveClass/PY0101EN/labs/example1.txt"
      ],
      "execution_count": 10,
      "outputs": [
        {
          "output_type": "stream",
          "text": [
            "/resources/data/Example1.txt: Scheme missing.\n",
            "--2020-09-13 06:21:12--  https://s3-api.us-geo.objectstorage.softlayer.net/cf-courses-data/CognitiveClass/PY0101EN/labs/example1.txt\n",
            "Resolving s3-api.us-geo.objectstorage.softlayer.net (s3-api.us-geo.objectstorage.softlayer.net)... 67.228.254.196\n",
            "Connecting to s3-api.us-geo.objectstorage.softlayer.net (s3-api.us-geo.objectstorage.softlayer.net)|67.228.254.196|:443... connected.\n",
            "HTTP request sent, awaiting response... 200 OK\n",
            "Length: 45 [text/plain]\n",
            "Saving to: ‘example1.txt.2’\n",
            "\n",
            "\rexample1.txt.2        0%[                    ]       0  --.-KB/s               \rexample1.txt.2      100%[===================>]      45  --.-KB/s    in 0s      \n",
            "\n",
            "2020-09-13 06:21:12 (7.40 MB/s) - ‘example1.txt.2’ saved [45/45]\n",
            "\n",
            "FINISHED --2020-09-13 06:21:12--\n",
            "Total wall clock time: 0.2s\n",
            "Downloaded: 1 files, 45 in 0s (7.40 MB/s)\n"
          ],
          "name": "stdout"
        }
      ]
    },
    {
      "cell_type": "code",
      "metadata": {
        "id": "Th3bfMzTGeRn",
        "colab_type": "code",
        "colab": {}
      },
      "source": [
        "# Read the Example1.txt\n",
        "example1 = \"/content/example1.txt\"\n",
        "file1 = open(example1, \"r\")"
      ],
      "execution_count": 11,
      "outputs": []
    },
    {
      "cell_type": "code",
      "metadata": {
        "id": "D5S8W7w0GZQt",
        "colab_type": "code",
        "colab": {
          "base_uri": "https://localhost:8080/",
          "height": 35
        },
        "outputId": "26bec4ba-620c-44f0-8907-2c1936547eb3"
      },
      "source": [
        "try:\n",
        "  file1.write(\"hello trying to write\")\n",
        "except:\n",
        "  print(\"trying to write file in read mode\")\n",
        "else:\n",
        "  print(\"no exception occurs\")\n",
        "finally:\n",
        "  file1.close()"
      ],
      "execution_count": 12,
      "outputs": [
        {
          "output_type": "stream",
          "text": [
            "trying to write file in read mode\n"
          ],
          "name": "stdout"
        }
      ]
    },
    {
      "cell_type": "code",
      "metadata": {
        "id": "uMjrL_gfHlb4",
        "colab_type": "code",
        "colab": {}
      },
      "source": [
        ""
      ],
      "execution_count": 12,
      "outputs": []
    },
    {
      "cell_type": "code",
      "metadata": {
        "id": "rlWok0AVB66r",
        "colab_type": "code",
        "colab": {
          "base_uri": "https://localhost:8080/",
          "height": 235
        },
        "outputId": "b7930e91-53dc-4837-8c4c-7116d5686138"
      },
      "source": [
        "f = open(\"test.txt\", encoding = 'utf-8',mode='r') # this program might work with the anaconda's jupyter system\n",
        "try:\n",
        "   f.write(\"my first file\\n\")\n",
        "\n",
        "   # perform file operations\n",
        "except Interrupt:\n",
        "    print ('trying to write file in read mode')\n",
        "else:\n",
        "    print ('No exception occurred')\n",
        "finally:\n",
        "   f.close()"
      ],
      "execution_count": 13,
      "outputs": [
        {
          "output_type": "error",
          "ename": "FileNotFoundError",
          "evalue": "ignored",
          "traceback": [
            "\u001b[0;31m---------------------------------------------------------------------------\u001b[0m",
            "\u001b[0;31mFileNotFoundError\u001b[0m                         Traceback (most recent call last)",
            "\u001b[0;32m<ipython-input-13-fee9b9ff4829>\u001b[0m in \u001b[0;36m<module>\u001b[0;34m()\u001b[0m\n\u001b[0;32m----> 1\u001b[0;31m \u001b[0mf\u001b[0m \u001b[0;34m=\u001b[0m \u001b[0mopen\u001b[0m\u001b[0;34m(\u001b[0m\u001b[0;34m\"test.txt\"\u001b[0m\u001b[0;34m,\u001b[0m \u001b[0mencoding\u001b[0m \u001b[0;34m=\u001b[0m \u001b[0;34m'utf-8'\u001b[0m\u001b[0;34m,\u001b[0m\u001b[0mmode\u001b[0m\u001b[0;34m=\u001b[0m\u001b[0;34m'r'\u001b[0m\u001b[0;34m)\u001b[0m \u001b[0;31m# this program might work with the anaconda's jupyter system\u001b[0m\u001b[0;34m\u001b[0m\u001b[0;34m\u001b[0m\u001b[0m\n\u001b[0m\u001b[1;32m      2\u001b[0m \u001b[0;32mtry\u001b[0m\u001b[0;34m:\u001b[0m\u001b[0;34m\u001b[0m\u001b[0;34m\u001b[0m\u001b[0m\n\u001b[1;32m      3\u001b[0m    \u001b[0mf\u001b[0m\u001b[0;34m.\u001b[0m\u001b[0mwrite\u001b[0m\u001b[0;34m(\u001b[0m\u001b[0;34m\"my first file\\n\"\u001b[0m\u001b[0;34m)\u001b[0m\u001b[0;34m\u001b[0m\u001b[0;34m\u001b[0m\u001b[0m\n\u001b[1;32m      4\u001b[0m \u001b[0;34m\u001b[0m\u001b[0m\n\u001b[1;32m      5\u001b[0m    \u001b[0;31m# perform file operations\u001b[0m\u001b[0;34m\u001b[0m\u001b[0;34m\u001b[0m\u001b[0;34m\u001b[0m\u001b[0m\n",
            "\u001b[0;31mFileNotFoundError\u001b[0m: [Errno 2] No such file or directory: 'test.txt'"
          ]
        }
      ]
    }
  ]
}